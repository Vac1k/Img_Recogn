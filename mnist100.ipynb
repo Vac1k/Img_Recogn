{
  "nbformat": 4,
  "nbformat_minor": 0,
  "metadata": {
    "colab": {
      "provenance": []
    },
    "kernelspec": {
      "name": "python3",
      "display_name": "Python 3"
    },
    "accelerator": "GPU"
  },
  "cells": [
    {
      "cell_type": "code",
      "metadata": {
        "id": "m65DOnJsgaZb"
      },
      "source": [
        "import numpy as np\n",
        "from keras.datasets import cifar10\n",
        "from keras.models import Sequential\n",
        "from keras.layers import Dense, Flatten\n",
        "from keras.layers import Dropout\n",
        "from keras.layers.convolutional import Conv2D, MaxPooling2D\n",
        "from keras.utils import np_utils\n",
        "from keras.preprocessing import image\n",
        "import matplotlib.pyplot as plt\n",
        "%matplotlib inline"
      ],
      "execution_count": null,
      "outputs": []
    },
    {
      "cell_type": "code",
      "metadata": {
        "id": "NG0nk80jh3qm"
      },
      "source": [
        "# Размер мини-выборки\n",
        "batch_size = 128\n",
        "# Количество классов изображений\n",
        "nb_classes = 10\n",
        "# Количество эпох для обучения\n",
        "nb_epoch = 25\n",
        "# Размер изображений\n",
        "img_rows, img_cols = 32, 32\n",
        "# Количество каналов в изображении: RGB\n",
        "img_channels = 3\n",
        "# Названия классов из набора данных CIFAR-10\n",
        "classes=['самолет', 'автомобиль', 'птица', 'кот', 'олень', 'собака', 'лягушка', 'лошадь', 'корабль', 'грузовик']"
      ],
      "execution_count": null,
      "outputs": []
    },
    {
      "cell_type": "code",
      "metadata": {
        "id": "A4XJJygph9ik",
        "outputId": "8eff6397-3863-4212-fa7e-dc67fca012a7",
        "colab": {
          "base_uri": "https://localhost:8080/"
        }
      },
      "source": [
        "(X_train, y_train), (X_test, y_test) = cifar10.load_data()\n",
        "print(y_train[100][0])"
      ],
      "execution_count": null,
      "outputs": [
        {
          "output_type": "stream",
          "text": [
            "8\n"
          ],
          "name": "stdout"
        }
      ]
    },
    {
      "cell_type": "code",
      "metadata": {
        "id": "RrDtpCnxiKyi",
        "outputId": "6c3a03c5-02df-480d-a792-7945f9ca2837",
        "colab": {
          "base_uri": "https://localhost:8080/",
          "height": 303
        }
      },
      "source": [
        "n = 100\n",
        "\n",
        "\n",
        "plt.imshow(X_train[n])\n",
        "plt.show()\n",
        "print(\"Номер класса:\", y_train[n])\n",
        "print(\"Тип объекта:\", classes[y_train[n][0]])"
      ],
      "execution_count": null,
      "outputs": [
        {
          "output_type": "display_data",
          "data": {
            "image/png": "[encoded data removed]",
            "text/plain": [
              "<Figure size 432x288 with 1 Axes>"
            ]
          },
          "metadata": {
            "tags": [],
            "needs_background": "light"
          }
        },
        {
          "output_type": "stream",
          "text": [
            "Номер класса: [8]\n",
            "Тип объекта: корабль\n"
          ],
          "name": "stdout"
        }
      ]
    },
    {
      "cell_type": "code",
      "metadata": {
        "id": "wsfooVj-iO6d"
      },
      "source": [
        "X_train = X_train.astype('float32')\n",
        "X_test = X_test.astype('float32')\n",
        "X_train /= 255\n",
        "X_test /= 255"
      ],
      "execution_count": null,
      "outputs": []
    },
    {
      "cell_type": "code",
      "metadata": {
        "id": "NFF-lz43iUCE",
        "outputId": "6af8c2db-3a91-406b-987f-0acbc9838fd8",
        "colab": {
          "base_uri": "https://localhost:8080/"
        }
      },
      "source": [
        "Y_train = np_utils.to_categorical(y_train, 10)\n",
        "Y_test = np_utils.to_categorical(y_test, 10)\n",
        "print(Y_test)"
      ],
      "execution_count": null,
      "outputs": [
        {
          "output_type": "stream",
          "text": [
            "[[0. 0. 0. ... 0. 0. 0.]\n",
            " [0. 0. 0. ... 0. 1. 0.]\n",
            " [0. 0. 0. ... 0. 1. 0.]\n",
            " ...\n",
            " [0. 0. 0. ... 0. 0. 0.]\n",
            " [0. 1. 0. ... 0. 0. 0.]\n",
            " [0. 0. 0. ... 1. 0. 0.]]\n"
          ],
          "name": "stdout"
        }
      ]
    },
    {
      "cell_type": "code",
      "metadata": {
        "id": "f8eDTQo3iX9x"
      },
      "source": [
        "# Создаем последовательную модель\n",
        "model = Sequential()\n",
        "# Первый сверточный слой\n",
        "model.add(Conv2D(32, (3, 3), padding='same',\n",
        "                        input_shape=(32, 32, 3), activation='relu'))\n",
        "# Второй сверточный слой\n",
        "model.add(Conv2D(32, (3, 3), activation='relu', padding='same'))\n",
        "# Первый слой подвыборки\n",
        "model.add(MaxPooling2D(pool_size=(2, 2)))\n",
        "# Слой регуляризации Dropout\n",
        "model.add(Dropout(0.25))\n",
        "\n",
        "# Третий сверточный слой\n",
        "model.add(Conv2D(64, (3, 3), padding='same', activation='relu'))\n",
        "# Четвертый сверточный слой\n",
        "model.add(Conv2D(64, (3, 3), activation='relu'))\n",
        "# Второй слой подвыборки\n",
        "model.add(MaxPooling2D(pool_size=(2, 2)))\n",
        "# Слой регуляризации Dropout\n",
        "model.add(Dropout(0.25))\n",
        "# Слой преобразования данных из 2D представления в плоское\n",
        "model.add(Flatten())\n",
        "# Полносвязный слой для классификации\n",
        "model.add(Dense(512, activation='relu'))\n",
        "# Слой регуляризации Dropout\n",
        "model.add(Dropout(0.5))\n",
        "# Выходной полносвязный слой\n",
        "model.add(Dense(10, activation='softmax'))"
      ],
      "execution_count": null,
      "outputs": []
    },
    {
      "cell_type": "code",
      "metadata": {
        "id": "u0id1hnjia8d",
        "outputId": "e91b7a15-d45f-4123-d1ac-a57afda6b104",
        "colab": {
          "base_uri": "https://localhost:8080/"
        }
      },
      "source": [
        "print(model.summary())"
      ],
      "execution_count": null,
      "outputs": [
        {
          "output_type": "stream",
          "text": [
            "Model: \"sequential\"\n",
            "_________________________________________________________________\n",
            "Layer (type)                 Output Shape              Param #   \n",
            "=================================================================\n",
            "conv2d (Conv2D)              (None, 32, 32, 32)        896       \n",
            "_________________________________________________________________\n",
            "conv2d_1 (Conv2D)            (None, 32, 32, 32)        9248      \n",
            "_________________________________________________________________\n",
            "max_pooling2d (MaxPooling2D) (None, 16, 16, 32)        0         \n",
            "_________________________________________________________________\n",
            "dropout (Dropout)            (None, 16, 16, 32)        0         \n",
            "_________________________________________________________________\n",
            "conv2d_2 (Conv2D)            (None, 16, 16, 64)        18496     \n",
            "_________________________________________________________________\n",
            "conv2d_3 (Conv2D)            (None, 14, 14, 64)        36928     \n",
            "_________________________________________________________________\n",
            "max_pooling2d_1 (MaxPooling2 (None, 7, 7, 64)          0         \n",
            "_________________________________________________________________\n",
            "dropout_1 (Dropout)          (None, 7, 7, 64)          0         \n",
            "_________________________________________________________________\n",
            "flatten (Flatten)            (None, 3136)              0         \n",
            "_________________________________________________________________\n",
            "dense (Dense)                (None, 512)               1606144   \n",
            "_________________________________________________________________\n",
            "dropout_2 (Dropout)          (None, 512)               0         \n",
            "_________________________________________________________________\n",
            "dense_1 (Dense)              (None, 10)                5130      \n",
            "=================================================================\n",
            "Total params: 1,676,842\n",
            "Trainable params: 1,676,842\n",
            "Non-trainable params: 0\n",
            "_________________________________________________________________\n",
            "None\n"
          ],
          "name": "stdout"
        }
      ]
    },
    {
      "cell_type": "code",
      "metadata": {
        "id": "XPKb3l1Xiege"
      },
      "source": [
        "model.compile(loss='categorical_crossentropy',\n",
        "              optimizer='adam',\n",
        "              metrics=['accuracy'])"
      ],
      "execution_count": null,
      "outputs": []
    },
    {
      "cell_type": "code",
      "metadata": {
        "id": "ZwQK66dsijH3",
        "outputId": "214fa075-0f70-492a-d45d-230b2179d9e7",
        "colab": {
          "base_uri": "https://localhost:8080/"
        }
      },
      "source": [
        "history = model.fit(X_train, Y_train,\n",
        "              batch_size=batch_size,\n",
        "              epochs=nb_epoch,\n",
        "              validation_split=0.1,\n",
        "              shuffle=True,\n",
        "              verbose=2)"
      ],
      "execution_count": null,
      "outputs": [
        {
          "output_type": "stream",
          "text": [
            "Epoch 1/25\n",
            "352/352 - 4s - loss: 1.6283 - accuracy: 0.4043 - val_loss: 1.2444 - val_accuracy: 0.5548\n",
            "Epoch 2/25\n",
            "352/352 - 3s - loss: 1.2169 - accuracy: 0.5658 - val_loss: 1.0054 - val_accuracy: 0.6458\n",
            "Epoch 3/25\n",
            "352/352 - 3s - loss: 1.0420 - accuracy: 0.6305 - val_loss: 0.8842 - val_accuracy: 0.6922\n",
            "Epoch 4/25\n",
            "352/352 - 3s - loss: 0.9348 - accuracy: 0.6709 - val_loss: 0.8004 - val_accuracy: 0.7254\n",
            "Epoch 5/25\n",
            "352/352 - 3s - loss: 0.8593 - accuracy: 0.6959 - val_loss: 0.8016 - val_accuracy: 0.7208\n",
            "Epoch 6/25\n",
            "352/352 - 3s - loss: 0.8025 - accuracy: 0.7183 - val_loss: 0.7380 - val_accuracy: 0.7458\n",
            "Epoch 7/25\n",
            "352/352 - 3s - loss: 0.7478 - accuracy: 0.7376 - val_loss: 0.6787 - val_accuracy: 0.7658\n",
            "Epoch 8/25\n",
            "352/352 - 3s - loss: 0.7088 - accuracy: 0.7494 - val_loss: 0.6858 - val_accuracy: 0.7674\n",
            "Epoch 9/25\n",
            "352/352 - 3s - loss: 0.6717 - accuracy: 0.7631 - val_loss: 0.6674 - val_accuracy: 0.7716\n",
            "Epoch 10/25\n",
            "352/352 - 3s - loss: 0.6442 - accuracy: 0.7738 - val_loss: 0.6489 - val_accuracy: 0.7768\n",
            "Epoch 11/25\n",
            "352/352 - 3s - loss: 0.6077 - accuracy: 0.7855 - val_loss: 0.6345 - val_accuracy: 0.7826\n",
            "Epoch 12/25\n",
            "352/352 - 3s - loss: 0.5754 - accuracy: 0.7984 - val_loss: 0.6163 - val_accuracy: 0.7900\n",
            "Epoch 13/25\n",
            "352/352 - 3s - loss: 0.5510 - accuracy: 0.8058 - val_loss: 0.6342 - val_accuracy: 0.7820\n",
            "Epoch 14/25\n",
            "352/352 - 3s - loss: 0.5351 - accuracy: 0.8089 - val_loss: 0.6120 - val_accuracy: 0.7926\n",
            "Epoch 15/25\n",
            "352/352 - 3s - loss: 0.5051 - accuracy: 0.8215 - val_loss: 0.6278 - val_accuracy: 0.7940\n",
            "Epoch 16/25\n",
            "352/352 - 3s - loss: 0.4945 - accuracy: 0.8244 - val_loss: 0.6275 - val_accuracy: 0.7918\n",
            "Epoch 17/25\n",
            "352/352 - 3s - loss: 0.4721 - accuracy: 0.8322 - val_loss: 0.5976 - val_accuracy: 0.8012\n",
            "Epoch 18/25\n",
            "352/352 - 3s - loss: 0.4525 - accuracy: 0.8391 - val_loss: 0.6318 - val_accuracy: 0.7938\n",
            "Epoch 19/25\n",
            "352/352 - 3s - loss: 0.4455 - accuracy: 0.8438 - val_loss: 0.6008 - val_accuracy: 0.8046\n",
            "Epoch 20/25\n",
            "352/352 - 3s - loss: 0.4224 - accuracy: 0.8513 - val_loss: 0.6022 - val_accuracy: 0.8032\n",
            "Epoch 21/25\n",
            "352/352 - 3s - loss: 0.4128 - accuracy: 0.8519 - val_loss: 0.6447 - val_accuracy: 0.7902\n",
            "Epoch 22/25\n",
            "352/352 - 3s - loss: 0.4049 - accuracy: 0.8547 - val_loss: 0.6252 - val_accuracy: 0.7936\n",
            "Epoch 23/25\n",
            "352/352 - 3s - loss: 0.3892 - accuracy: 0.8614 - val_loss: 0.6269 - val_accuracy: 0.8044\n",
            "Epoch 24/25\n",
            "352/352 - 3s - loss: 0.3888 - accuracy: 0.8607 - val_loss: 0.6580 - val_accuracy: 0.7948\n",
            "Epoch 25/25\n",
            "352/352 - 3s - loss: 0.3633 - accuracy: 0.8693 - val_loss: 0.6450 - val_accuracy: 0.7974\n"
          ],
          "name": "stdout"
        }
      ]
    },
    {
      "cell_type": "code",
      "metadata": {
        "id": "71eUEKvDi_X9"
      },
      "source": [
        "model_json = model.to_json()\n",
        "json_file = open(\"cifar10_model.json\", \"w\")\n",
        "json_file.write(model_json)\n",
        "json_file.close()\n",
        "model.save_weights(\"cifar10_model.h5\")"
      ],
      "execution_count": null,
      "outputs": []
    },
    {
      "cell_type": "code",
      "metadata": {
        "id": "QUEG6ws0jIWn",
        "outputId": "b29317ed-c485-4f66-dd0e-a3ee3f175c0e",
        "colab": {
          "base_uri": "https://localhost:8080/"
        }
      },
      "source": [
        "!ls"
      ],
      "execution_count": null,
      "outputs": [
        {
          "output_type": "stream",
          "text": [
            "cifar10_model.h5  cifar10_model.json  sample_data\n"
          ],
          "name": "stdout"
        }
      ]
    },
    {
      "cell_type": "code",
      "metadata": {
        "id": "DdiNPdEjjKWW"
      },
      "source": [
        "from google.colab import files"
      ],
      "execution_count": null,
      "outputs": []
    },
    {
      "cell_type": "code",
      "metadata": {
        "id": "gwLNTmGZj7TY",
        "outputId": "832db907-f503-46db-b170-410b2793994a",
        "colab": {
          "base_uri": "https://localhost:8080/",
          "height": 266
        }
      },
      "source": [
        "index=11\n",
        "plt.imshow((X_test[index]))\n",
        "plt.show()"
      ],
      "execution_count": null,
      "outputs": [
        {
          "output_type": "display_data",
          "data": {
            "image/png": "[encoded data removed]",
            "text/plain": [
              "<Figure size 432x288 with 1 Axes>"
            ]
          },
          "metadata": {
            "tags": [],
            "needs_background": "light"
          }
        }
      ]
    },
    {
      "cell_type": "code",
      "metadata": {
        "id": "pJpEtpMHlRvG"
      },
      "source": [
        "x = X_test[index]\n",
        "x = np.expand_dims(x, axis=0)"
      ],
      "execution_count": null,
      "outputs": []
    },
    {
      "cell_type": "code",
      "metadata": {
        "id": "oZt-2PkolUsX"
      },
      "source": [
        "prediction = model.predict(x)"
      ],
      "execution_count": null,
      "outputs": []
    },
    {
      "cell_type": "code",
      "metadata": {
        "id": "ayC087zFlfGN",
        "outputId": "24caca2b-aa65-4ad7-a85b-c6240380acf2",
        "colab": {
          "base_uri": "https://localhost:8080/"
        }
      },
      "source": [
        "print(prediction)"
      ],
      "execution_count": null,
      "outputs": [
        {
          "output_type": "stream",
          "text": [
            "[[4.3204338e-15 9.1941416e-08 2.0941400e-23 1.4150276e-22 1.1767501e-25\n",
            "  3.5741689e-27 4.5264728e-26 1.8846588e-23 2.0921864e-13 9.9999988e-01]]\n"
          ],
          "name": "stdout"
        }
      ]
    },
    {
      "cell_type": "code",
      "metadata": {
        "id": "zztGJ8X0lieq",
        "outputId": "a3e9c51d-f702-42dd-97ab-3e1f32f7521b",
        "colab": {
          "base_uri": "https://localhost:8080/"
        }
      },
      "source": [
        "prediction = np.argmax(prediction)\n",
        "print(classes[prediction])"
      ],
      "execution_count": null,
      "outputs": [
        {
          "output_type": "stream",
          "text": [
            "грузовик\n"
          ],
          "name": "stdout"
        }
      ]
    },
    {
      "cell_type": "code",
      "metadata": {
        "id": "SQG5r9QUlm0B",
        "outputId": "efc9ba86-9287-42de-a2d8-52dc1e676820",
        "colab": {
          "base_uri": "https://localhost:8080/"
        }
      },
      "source": [
        "print(classes[y_test[index][0]])"
      ],
      "execution_count": null,
      "outputs": [
        {
          "output_type": "stream",
          "text": [
            "грузовик\n"
          ],
          "name": "stdout"
        }
      ]
    },
    {
      "cell_type": "code",
      "metadata": {
        "id": "3ozXgV0vl5kw",
        "outputId": "ccbc8f11-7ced-4d52-8acd-ea97ae9f52e2",
        "colab": {
          "resources": {
            "http://localhost:8080/nbextensions/google.colab/files.js": {
              "data": "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",
              "ok": true,
              "headers": [
                [
                  "content-type",
                  "application/javascript"
                ]
              ],
              "status": 200,
              "status_text": ""
            }
          },
          "base_uri": "https://localhost:8080/",
          "height": 111
        }
      },
      "source": [
        "from google.colab import files\n",
        "\n",
        "files.upload()"
      ],
      "execution_count": null,
      "outputs": [
        {
          "output_type": "display_data",
          "data": {
            "text/html": [
              "\n",
              "     <input type=\"file\" id=\"files-8fc7b1df-e9fc-4229-ad2d-6a9a9514c86f\" name=\"files[]\" multiple disabled\n",
              "        style=\"border:none\" />\n",
              "     <output id=\"result-8fc7b1df-e9fc-4229-ad2d-6a9a9514c86f\">\n",
              "      Upload widget is only available when the cell has been executed in the\n",
              "      current browser session. Please rerun this cell to enable.\n",
              "      </output>\n",
              "      <script src=\"/nbextensions/google.colab/files.js\"></script> "
            ],
            "text/plain": [
              "<IPython.core.display.HTML object>"
            ]
          },
          "metadata": {
            "tags": []
          }
        },
        {
          "output_type": "stream",
          "text": [
            "Saving bembi2.jpg to bembi2.jpg\n"
          ],
          "name": "stdout"
        },
        {
          "output_type": "execute_result",
          "data": {
            "text/plain": [
              "{'bembi2.jpg': b'\\xff\\xd8\\xff\\xe0\\x00\\x10JFIF\\x00\\x01\\x01\\x00\\x00\\x01\\x00\\x01\\x00\\x00\\xff\\xdb\\x00\\x84\\x00\\t\\x06\\x07\\x10\\x12\\x10\\x13\\x11\\x12\\x12\\x16\\x15\\x15\\x15\\x15\\x0f\\x15\\x10\\x10\\x10\\x12\\x15\\x0f\\x10\\x15\\x15\\x15\\x15\\x16\\x16\\x15\\x15\\x15\\x15\\x18\\x1d( \\x18\\x1a%\\x1b\\x16\\x15!1!%5+...\\x17\\x1f383-7(-.+\\x01\\n\\n\\n\\x0e\\r\\x0e\\x1a\\x10\\x10\\x1a-\\x1f\\x1d\\x1e---------------------------++----+-----+----------\\xff\\xc0\\x00\\x11\\x08\\x00\\xa8\\x01,\\x03\\x01\"\\x00\\x02\\x11\\x01\\x03\\x11\\x01\\xff\\xc4\\x00\\x1c\\x00\\x00\\x01\\x05\\x01\\x01\\x01\\x00\\x00\\x00\\x00\\x00\\x00\\x00\\x00\\x00\\x00\\x03\\x00\\x01\\x02\\x04\\x05\\x06\\x07\\x08\\xff\\xc4\\x00@\\x10\\x00\\x01\\x04\\x00\\x04\\x03\\x06\\x03\\x05\\x05\\x07\\x04\\x03\\x00\\x00\\x00\\x01\\x00\\x02\\x03\\x11\\x04\\x12!1\\x05AQ\\x06\\x13\"aq\\x81\\x07\\x91\\xa1\\x142\\xb1\\xc1\\xf0Bb\\xb2\\xd1\\xf1\\x15#Rr\\x82\\xa2\\xe1\\x163s\\x92$%C\\xff\\xc4\\x00\\x19\\x01\\x01\\x01\\x01\\x01\\x01\\x01\\x00\\x00\\x00\\x00\\x00\\x00\\x00\\x00\\x00\\x00\\x00\\x01\\x02\\x03\\x04\\x05\\xff\\xc4\\x00#\\x11\\x01\\x01\\x00\\x02\\x02\\x02\\x02\\x03\\x01\\x01\\x01\\x00\\x00\\x00\\x00\\x00\\x00\\x01\\x02\\x11\\x12!\\x131\\x03Q\"2A\\x04qa\\xff\\xda\\x00\\x0c\\x03\\x01\\x00\\x02\\x11\\x03\\x11\\x00?\\x00\\xf4\\xe0\\xa4\\x14@RZ`\\xe1H(\\x85 \\x82A8L\\x13\\x84\\x0e\\x9d2\\x90@\\xe9\\xd3\\x04\\xe8\\x1d:d\\xe8\\xa4\\x9d \\x9d\\x02I$\\xe8\\x12J\\xaf\\x12\\x9c1\\x80\\xddf\\x92\\x16\\rkW\\xc8\\xd6\\x8f\\xc5[\\nl@\\xc8\\xd0\\xe0\\xdb\\xd4\\x82@\\xe7@\\x80O\\xcd\\xcd\\xf9\\xa9,l\\tl\\xf8\\xb9e\\xbbl!\\x91\\xb1\\xbc\\xb3j\\xe2\\xe3\\xe7\\xb7\\xcf\\xd1m).\\xfb[4d\\x93\\xa6ZBI$\\x90$\\xc9\\xd3 Hr\\xc8\\x1a,\\xedm\\x17\\xe6\\xe2\\x00\\xfa\\x90\\xa4\\xd7\\x82\\xe2\\xdb\\xd4e\\xcc9\\xd1\\xdb\\xf0?%\\xcfc\\xb8\\xa5\\xf0\\xccT\\xaf\\xac\\xf0\\xb7\\x13\\x1c\\x9b\\x01\\xde\\xc5a\\xbe\\x99\\x8eG\\x01\\xfb\\xc1Kt\\xb2:\\x14\\xc5G\\x0e\\xf2\\xe61\\xc4QsX\\xe2:\\x12\\x01!;\\x9dJ\\xa1*\\xd8\\x99)\\x1c\\xc8\\x10&\\x00\\x84\\x14\\x86$\\xd2\\xae\\xe9M\\x1fU\\t\\r\\x13\\xd1>\\xde\\xea\\x0b\\x1d\\xe1\\xca\\x8d\\x86\\x97@\\xab\\xee\\xd4\\xa1~\\xa0 \\xd2*)\\xdc\\xe0\\x99Q\\x99\\xc3x\\xbcr\\x8b\\x07\\x9e\\x8bMy>\\ng\\xb1\\xc0\\xb4\\xed\\xcb\\x92\\xebx\\x7fhI\\x14\\xed\\xd6fK\\xc5\\xd6\\x05 \\xb9\\xe6\\xf1\\x87\\x13AZo\\x14=\\x16\\x99l\\'\\n\\xa4\\x18\\xe6\\xb9[i\\x05\\x04\\x82t\\xc9\\xc2\\x07N\\x99:\\x07N\\x99:\\x07N\\x99:)\\xd2I$\\x1c\\xff\\x00mq\"(a\\x99\\xdfr<V\\x15\\xf2\\xd0\\xbf\\x0b]c\\xfd\\xd9V\\xf4\\x927!p#V\\x92\\xd29\\xf8I\\xb1\\xec-C\\x1b\\x84\\x8eh\\x9f\\x0c\\x8d\\xcc\\xc9\\x1a\\xe6\\xbd\\xbbX\"\\xb7\\xe4|\\xf9.\\x05\\xd3c8p8y\\xeeX\\x19\\x98\\xe0\\xf1\\x15\\xf7\\x83\\x87w\\xddI\\xc9\\xaf\\x02BkcV6 s\\xca\\xf1\\xed\\xa97\\xd3{\\xb0B\\xe2\\x9eNrN\\xe7\\x1b\\xf2c\\x00\\x03\\xc8Q]2\\xe6;\\x01+LR\\xb4\\x1b=\\xe1v\\xbb\\xd3\\xae\\xbf \\xba\\x82\\x9f\\x1f\\xeb\\x0c\\xff\\x00c$\\x92K\\xa3$\\x99:d\\t2t\\x90Q\\xc6\\x8c\\x922mk\\xfe\\xdc\\x95\\xaf\\x85\\xc6\\xdaH\\xf2u\\xff\\x00\\xec\\xbc\\x97\\x00\\xd7\\xf1\\x1e\\'4,qlO\\x96If->\\x10\\xc6;B\\x06\\xcey4\\x07\\xce\\xa8\\x15\\xea\\xbd\\xa7\\xc5wXI\\x9d\\xcc\\xb4\\xb5\\xbf\\xe6v\\x83\\xf5\\xe4\\xb8\\xff\\x00\\x84\\xd8\\x06\\xc7\\x1c\\x85\\xdfx\\xbeGFoW6\\x98\\xc78\\xf5\\xa75\\xc3\\xdd\\xcb\\x8d\\xef=:N\\xb1\\xdb\\xd0#\\x8f+CE\\x9a\\x00[\\x8ec\\xa7S\\xcc\\xa0b\\x81\\xad\\x15\\x82\\xe0\\xaa\\xc98\\xba]\\\\\\xd4\\x8c\\xf4h\\xa5\\x1b\\xf4%\\x0b\\x1a\\xc1\\xd5Q\\x82g4\\x96\\x94\\x161\\xb1\\xe8\\x82\\'\\x0ek@\\xdd]\\x95\\xc1\\xcc\\x00n\\xb2\\xf8d\\x1f\\xde\\xbc\\x1eH4h\\xe4C\\xba\\xd7\\xa2\\x9c\\xcf\\xba\\x01K\\xbb\\xa2\\x0f\\xcc QL_\\xec\\xad\\x07\\xaa\\x12<5\\xdai\\xe4\\x8b\\x1b\\xecZA\\xe6\\x9d\\xd1\\x1a\\xda\\x9c\\x0f7a(\\x9e\\x08\\xa4\\x9d\\x11\\x1b,\\xa4\\xab\\x90c^\\xd2\\xb6\\xe5\\xc7h\\x08\\xe9\\xaa\\xe6\\x19v\\xafG\\x88\\xe4\\x9e\\x88\\xde\\xc0\\xf1\\x10Ml\\xb5\\xb0\\x9cKZ\\x1b.S\\x0e\\x05fHb\\\\\\xdd\\x8e\\xea\\xed\\xad=\\x16\\tC\\x85\\xa2\\xd2\\xe0\\xb0\\x9cjV\\x11\\xcc-\\xfe\\x1d\\xda\\x16\\xbc\\xf8\\x85z\\xab\\xb4\\xe2\\xdf\\xa4\\xeb+\\xfbn;\\xa5~\\x0c[\\x1f\\xb1D\\x1d$\\x82uBN\\x92tRI$\\x90:\\xcf\\xed\\x17\\x0b\\xfbV\\x16X\\x03\\xb2\\xb9\\xc2\\xe3\\x7f&\\xc8\\xd2\\x1c\\xc7\\x1f+\\x02\\xfc\\xadh\\'\\nY\\xbe\\x89t\\xf3>\\xc6\\xf1\\x17G;\\xa3x1\\xcf\\x11\\xcb>\\x19\\xe4\\x03\\xae\\xf9N\\xcei\\xd0\\x87y\\x8eTW\\xa5\\x89\\x01\\xaf;\\xa0t:n\\xb0\\xfbM\\xd9X1\\xb9^K\\xa2\\x9e?\\xfb8\\xa8\\xb4\\x95\\xbc\\xf2\\x9f\\xf1\\xb3}\\x0fSD.S\\x88O\\xc60A\\x86@\\xc9\\x84n\\x05\\x98\\x96\\x07w26\\xb2\\xb9\\x93\\xb4x\\xa1\\xb0~\\xf6\\xad\\x06\\xb5+\\x94\\x97\\x0f\\xf8\\xe9u\\x97\\xfdzM*\\xd8\\t\\xc4\\x915\\xe0\\x83\\x98]\\x8d\\xb7!ap\\x1e\\xde`\\xb1\\x1e\\x17;\\xb8\\x94Vx\\'\\xf0\\xb8\\x1f\\xddp\\xf0\\xbd\\xbd\\x08\\xddQ\\xec\\x1f\\x16cd\\x9f\\x869\\xed/\\x85\\xf3I\\x85pp\"\\\\,\\x8f/i\\x1f\\xbc\\xc2\\xe2\\xd2<\\x82\\xe9\\xb64\\xec\\x93\\x80\\x95,\\xde\\xd2qV\\xe10\\x93b]\\xb4q\\xbd\\xc0up\\x1e\\x16\\x8f2h+\\xb4K\\x82\\xe3\\xdb>\\x1e9\\xc6\\xd2\\x02\\xe1\\xff\\x00\\xb1\\xd1\\x17\\x11\\x8dc\\x01s\\x8d\\x0bh\\xf7q\\r\\x03\\xdc\\x90\\xb8\\x1e\\xcbv\\x8b\\x0f\\x84\\xe1xVK%9\\x915\\xae\\x8c\\x0c\\xd2\\x17\\xeaH\\r\\x1b\\x9do\\xd1Rg\\x1d\\xc5b\\xe6\\xef\"\\x81\\xcelN\\xb8!$\\x08\\x9a\\xf1\\xb4\\xd8\\x99una\\xbbc\\x16F\\xf5u\\\\\\xeez\\x9a\\x9d\\xb70\\xfbm\\xf6\\xeb\\x18e{0\\xecxm[\\x9eN\\xad`\\x1b\\xc8\\xf3\\xc8\\x01znI\\x00!va\\xe1\\xe4\\xcd\\x18sa\\x11\\xb6\\x1c.o\\xbd$m%\\xc6c\\xfeg\\x12o\\x9e\\xbc\\xa8\\x9a\\x07\\x82I!\\xcd\\x8c\\x91\\xb2\\x02s}\\x9a&\\xe4\\xc3\\xde\\x9f\\x7f\\x9c\\xbbs\\xa1\\xd4\\x15\\xbd\\x0e lW<e\\xde\\xea\\xe5f\\xb5\\x1a\\x91\\xca\\xe2*\\xfd\\xd0&\\xb6\\x9bD\\xc2<\\x00\\xabbg\\xd4\\x85\\xdbnh\\xe2q\\x16\\x15h\\xb1@;\\xc4\\x13:\\xb4(\\x18\\xf24!6\\xad\\x08^/8:\\x0eJ\\xc6\\x1f\\x13\\x1f\\x8d\\xe2\\x970\\xd9\\xdc,Z\\x0b^\\xeb4t\\xdd6\\x8e\\x96\\x1d\\xcb\\x89\\xdc\\x9aEn0,\\x8c>(\\x91\\xaf\\xb2p\\xfd\\xeft\\xd8\\xb53\\xc3\\x9dj\\xcc3\\x8aX\\xady\\xbb\\n\\'\\x12m6\\xaeN\\x01\\xa6\\xea\\xcc.\\xea\\xb3\\x9a\\xf4H\\xe5\\xea\\xb5qr\\xdbJGt\\x08\\x1d\\xea|<\\x9aR\\x96JRt\\xd6\\xf6<\\x13\\x1a\\xa4f\\x95^07R\\xef\\x02iv\\xb2\\x1eT\\xc4\\x84l\\xabfF\\x8d\\xcah\\xab.\\xc4l\\xafa\\xb1$\\x0f\\tY\\xaef\\xca\\xd4\\x06\\x96}#k\\r\\xc5d\\x1a+\\xdf\\xda.\\xb0J\\xc1\\x05\\x10\\xe2\\n\\xe9\\xb5t\\x9f\\xdb\\r\\x1b\\xab8n \\xc7s\\\\\\x81rM\\x90\\x82\\x08\\xe4\\xa6\\xd5\\xdd\\xa7Y\\x1c3\\x8a\\x87\\x00\\x1d\\xba\\xd7\\n\\x84\\x9d2zT8\\\\\\xa7\\xc5\\x0e\\x16\\xfcG\\x0e\\x7fv\\x1c]\\x0b\\xe3\\x9c\\x06^b#\\'>P5$1\\xce u\\x01t8\\x9c`b\\xa2x\\xb1\\xe4\\x14\\xb0\\x97O\\x14\\xc2F\\xc9\\x18\\xcc\\xe1\\xb8\\xa8\\x8d\\xb8\\xb0\\xbd\\xd0b\\x05\\r^\\xc9X5p\\xaf\\xff\\x00@\\xeb\\xea\\x93\\xf0Q\\xc7\\x88\\xc2\\xe28v6RA$E\\x88i\\xfbD\\x04Qs\\x1c@\\xc8\\xf6\\x90N\\xdd\\x0e\\xeb\\xb0\\xe2\\x1d\\x8ac\\xa62\\xe1\\xe6t\\r{\\xb3I\\x87\\xa2\\xf8\\t\\xd6\\xf2\\xe5sKn\\xce\\x9a\\x81\\xca\\x96O\\xdbY\\x85\\x99\\xf1Oq\\xbc\\xe5\\x8f\\x0fL\\x122\\xaa\\xdb\\x99\\xd5\\xae`j\\xc0\\xe4\\xbc\\xf7\\x96.\\xd8\\xdcro\\xe0~#\\xe2\\x0b\\x0exX\\xe7f \\x16\\x874\\x06\\xd9\\xd5\\xc36\\xfeK\\x9c\\xed\\x1f\\x14\\xc4\\xf1&\\xe5\\x9ac\\x0cL\\x95\\x96\\x1b\\x15GD\\x8f\\x1b\\xdb\\x9a\\xce_S\\xb7\\x9a\\xbd\\x87l%\\xb7\\xe2k\\x8e`\\xf6\\x00E\\x1d-\\xa0\\r\\xb6\\xe9\\xcd\\x0b\\x19\\xc4\\xb0\\xd0\\xb2G9\\xb2wMc\\x04\\xc1\\x8dni\\x1c\\xfa\\r\\xbd<;;\\xe4\\xb1\\xcf:\\xebq\\xc2)\\xc3\\x85\\xc2\\x87\\x13\\x85\\x88\\xcb\\x97\\xc3&7\\x88\\x17\\xc9\\x9bm#\\xc3\\x8am\\x1f\\xde\\x03\\x96\\x9c\\xd5\\xce\\xceI4\\x98\\xec\\xdfh{\\xd9\\x0b^$h\\xf0@\\xd78Sc\\x0ch\\r;\\x93\\xa0\\xfd\\x8fDX\\xfb5<\\x81\\x92:s\\x03\\x88&@\\xd6\\x97HA\\xd0\\r\\xc0a\\xca\\x05\\x8dh\\xde\\xbc\\x96\\xe7\\r\\xc0\\xc5\\x87\\x8cE\\x10\\xa6\\x82I$\\xdb\\x9c\\xe3\\xbb\\x9cy\\x93\\xfc\\xb9\\x05\\xb9\\xbd\\xed\\xc6\\xd9\\xadF\\x94\\xb3\\x02\\xb3\\xe5v\\xaa\\xc6jA\\x94sZ`\\xf1\\xe2\\x1c\\x05Z }\\xee\\xaa1\\xda\\xad8\"mY*\\xe9\\x0f\\x03[D\\x15\\x99\\x8fm\\x1d\\xf4Zx\\xf744QXx\\xd9mi(cu\\x10\\xfdJ\\xb7\\x86\\x01\\xad$\\xf3T\\x1ah\\x94E\\xcc\\x13\\xf5\\xbe\\x8a\\xd9py\\'e\\x9b\\x11\\xe4\\x115\\xda\\xd4\\xda\\xc6\\x86\\x1d\\x94\\xd7P\\xb5\\x97;\\xceb\\x8e1E\\xa0\\x85JW\\x92Pr\\xb18V\\xeaBO%]\\xae\\x14\\x8b\\x03\\x97\\xa1\\xc9o\\x0f\\x88\\xa2\\xb4\\xe0\\x95\\xae\\xdde\\x86\\xb7t|3\\xe8\\xace\\x16U\\xf7\\x9eCd\\x10uS|\\x9c\\xd0;\\xd1i\\x8a\\xd1\\xc3QX\\xfaAk\\xa9M\\x91f\\xe6\\xa8w\\xe2\\t;\\xab\\x10Hz\\xaa\\xae\\xc3\\xd1Dg\\x9a\\xcd\\x92\\xb2\\xd9\\x80\\x9a\\xd5\\x1c\\x15W\\n\\xef\\n3JF\\xc6!D\\xa7\\x05+E\\x85\\x14\\x848\\x15\\xd7\\xe1x\\x83r\\rW\\x1fH\\xd0\\xcaF\\xca\\x0e\\xa6N&\\x02\\x04\\x9cT\\xf2Y}\\xed\\x84\\xd6\\xae\\xe04\\xd3\\x17\\x1b(E\\xc9\\x14\\xc0\\x05zM\\x1d\\xae\\\\\\x87\\x1f\\xe2\\xd71\\xca\\xd6\\xb83#r\\xb9\\xadpw\\x89\\xc0\\x9du\\xdfj\\xea\\xb7\\xf8\\xe60C\\x0b\\xc8>2\\xd3\\x90s\\xb3\\xcf\\xe5g\\xd9y\\xdc\\xf8\\x8c\\xaf5\\xaef\\xb2\\xba\\x10\\x0e\\x95\\xd7c\\xf3^\\x7f\\x9f?\\xe4z>\\x1c?\\xb5\\xd7\\xe10\\xe2S\\xf6\\x86\\xf8A\\x19\\\\\\xe7\\x90\\xcc\\xce\\x1a\\xd0\\xbd\\xc8\\x17\\xb7\\xe4\\x87\\x8b\\x1ff\\x8d\\xcfm\\x1c\\xee./\\x0el\\x80eh\\xd0\\xefN\\xab\\xa1\\xe7\\xea\\xb9l^&LF\\x1d\\x9d\\xcb\\x1f\\x9a\\x16J\\xd7\\xb0\\xf7b\\'w\\xcf\\xcc\\xec\\xf9\\x8f\\x89\\xa45\\xbai\\xabw\\t`p\\xd3\\x0c=M\\xe0\\xef\\x83Z\\xc65\\xd1\\x98\\xda\\xd6\\x92\\x1a\\xe65\\xbfw\\xef\\xb8\\x7f\\xa8\\xae]L}\\xf6\\xe9\\xef-=+\\x13T\\x08\\xd8\\x80G\\xa1T^\\xee\\x88\\xd9\\xee6\\x7f\\x95\\x9b\\xef\\xb0\\xdd\\x08\\x90\\x17m\\xc7\\x9a\\xcd\\x13\\tR)\\x98\\xe4\\x9e\\x8a\\x1b\\xda\\x9a\\x19H\\xe6\\x914\\x86\\xe7\\x80\\xaa\\r+\\x8b\\x959Z\\xa6$)\\x9d\\xaa\\xa9\\xed\\x13t\\x10\\xcbuG.\\x01\\x05\\xce\\x04\\xa9\\xb2\\xc2$5#/5^W\\xea\\xa2\\x1c\\x89\\xb4\\xdd%\\xee\\x89\\x1c\\xed\\x01W-Cr\\xb1\\x1c\\xcbF\\xa9\\xe2m\\x9aV#`h\\xb46H-z6\\xc0\\xe2\\x12\\xd2\\xafC\\x1e\\x9a*\\x8e\\x930\\xaeh\\x98w8\\x1dVh3\\xdc\\xed\\x8a\\x8b\\\\:\"H\\xeaBt\\xc0\\xf2H\\xd2`\\xab8B\\xab0\\xe8\\x8f\\x83:%\\xf4\\x91x\\x8b\\x08e\\xaaqIj\\xe6\\x1b\\x0b\\x9a\\xdcM4n\\xed\\xfd\\x80\\xe6W.S\\x19\\xba\\xb3\\x1b\\x95\\xd4C\\x87\\x82tV#\\xcc\\xe9\\x0bX<-\\xd1\\xce#K\\xe7^\\x8a\\xd3q1G\\xfd\\xd3~\\xf3\\xa8e$w\\x86\\xeckGA\\xa2\\xbc\\x1a\\x00\\xe5\\xe7\\xd3\\xd8|\\xbeK\\xc9\\x9f\\xfa.]c\\xd4{\\xbe?\\x82a?.\\xeb\\x0f\\x13;\\xc3\\x8e]\\xbaiC\\xa7\\xaf\\xfc*\\xee\\xe2/\\xe4/m\\xf6\\'\\xa7\\xa7\\xeb\\xc9?\\x13\\xc4\\xf8\\xcbA\\x16+\\xe5\\xc8\\xfdB\\xcc\\xe2\\x1cD0\\x1du\\xab\\xbdv\\xf6;\\xeb\\xedk3,\\xbe\\xddx\\xe3\\xf4\\xdf\\x83\\x18\\x1e\\xd2\\xe6\\x8b- =\\xb7\\xe2i\"\\xc5\\x8a\\xd8\\xf2;\"\\x0cCF\\xe0\\x8a\\xdcR\\xe3x\\x7f\\x12?h\\xfb\\xce\\xa9#s\\x0bN\\xd7\\xbbj\\xbc\\xff\\x00\\x13\\xd5h`\\xf8\\xa4\\xa5\\xd9\\x1c\\xec\\xc3L\\xb6\\x00-\\xd7\\xc27\\xb2\\r\\x1f\\xd1[\\xf2g?\\xae~,/\\xf1\\xbc\\xfe2\\xc04 \\x81\\xbd\\x93\\x7f*\\xf4\\xf9\\xaa\\xc7\\x8f\\x11\\xa8p\\xe7^\\x1a\\xbf!g\\x7fU\\x9f\\x8d\\xc2\\x9c\\xe5\\xd5\\x98\\x10m\\xb4H\\xa2M\\x8f#\\xaa\\xce\\x7f\\x0es|M\\xba\\xbd\\x8d\\xe6\\xa3\\xfd+\\xeb\\xe6\\xb1~L\\xfe\\xdd\\'\\xc5\\xf1\\xfd6\\xa6\\xed+\\xb7\\x15^\\x1d\\xb7\\x16y\\xe8\\x84\\xde8\\x1e\\x01/p\\x06\\xe9\\xc1\\xe4\\r:\\x81D\\xfe\\xb6\\\\\\xf9nPw\\xa3\\xad\\x90~cM?\\xaa\\x93Xk5\\xd0\"\\xc6\\xa7C\\xa6\\xbe\\x9a{R\\x97,\\xaf\\xba\\xbcq\\x9e\\xa3[\\x1e\\xf2\\x1aI\\xbee\\xc6\\xf5\\xba\\xa2\\x7f\\x11\\xebK\\x9b\\xe29{\\xb0A\\xb7D\\xe0F\\x9a[h\\xe5?\\xad\\x96\\xc3\\xf1##z\\x8d]{\\xecA:\\xf2\\xf5\\xf3:\\xae\\x7f\\x12Z\\x03\\x9d\\x9br\\\\\\xf0(\\xd3\\xc9?\\x80\\xb0\\xae,\\xe4\\xcb\\xc508\\xb1\\xf1\\x93N\\xce\\xd7\\xb4\\xdd4\\xdd\\xe57\\xeat\\xe7KG\\x839\\xad\\x97\\xbb\\x91\\xaea\\x91\\xa5\\x82\\xc9-\\xcfc)\\xea\\xda5\\xb7+Y\\x98\\x9bi/n\\x96N\\x9c\\xaa\\xee\\x88\\xe66\\xfa+\\x0e\\xe2$5\\xadq\\xcc\\xc3\\xab\\t\\x1b\\x1d<=k\\x9f\\x9a\\xe9qr\\xff\\x00\\xd7\\xaeaq9\\xa2a\\xe7\\x94\\x03\\xe4F\\x87\\xea\\x13f\\x1c\\xd6GdqfX\\\\y\\x07P\\xf5\\xa0\\x7f?\\xa2\\xd8{V\\xf0\\xf5\\xdb\\x8es\\xf2\\x11\\xa0rQ)\\x00\\xa1)U\\x90\\xa4z\\x89\\t\\xdaF\\xe5M\\xef\\x04-\"\\xb1xC3\\xf2H\\x84\\'-i\\x8d\\x8adC\\x90\\xa8\\x07\\xa8\\x13\\xaa\\xb3\\x13i?U\\x16\\xbbE\\x0c\\xc9\\x02\\x9aA\\x01\\xbd\\x13eQ\\x8fMT$\\x9bU\\x9e\\xdas\\xc4\\xb8\\n\\xe4\\x982\\xd4\\xa2w\\'{)\\xba.m^\\x970\\xc3\\x08V#\\x94\\xe8\\x86\\xc6\\x9eh\\xccj\\x0b\\xcd\\xd7T\\xd6\\xde\\x8a<62\\xfb\\xe8\\x11\\xe2\\x80\\xb8\\x909,7%5\\x8a\\xd1\\x16\\x00)\\'a\\x1c\\x014\\x9f\\x0e\\xc7\\x11|\\x93\\xad%\\x94h\\x99\\xaa\\xb2x\\x850__\\x00\\xbd\\xabc\\xebz\\xfb\\xa2\\xe00\\xc5\\xc6\\xe9p\\x92\\xe3$ts\\x91\\xa7r\\xf2\\xc3\\xbe\\xcdyo\\xe0\\xbc\\x9f\\xe8\\x9b\\x91\\xea\\xff\\x007\\xe3m\\xae\\x9b\\x85H\\xd7>B4\\xca\\r\\x1d\\x8f\\x8a\\x80\\xd7\\xa6\\x87\\xf5iq\\xae\\xd0\\x98Y\\xe1\\x04\\xb9\\xda6\\xf5n\\x9e\\xbc\\x96\\x0feq\\xf9\\xdf ?\\xb6\\xd6k\\xe63\\x7f0\\xb2x\\xfe)\\xee\\xc5\\x96\\x13mm\\x06\\x8d2\\x8b\\x1a\\x95\\xc3\\x0c7\\x96\\xbe\\x9e\\x8c\\xb3\\xe9~<D\\x85\\xd9\\x89\\xad\\x89\\xcb\\xa6o\\x99D{\\x1f#\\xefS\\xa8 \\x1b>\\xe0\\xa8\\xb1\\x80Q\\x1e^\\xdb+\\xadp \\x105i\\x04{-\\xda\\x8a\\xad\\x8c\\xc4\\xf0r\\xe9`9\\xe4mz\\x02+]\\x0f\\xe0\\xba\\x0c4-\\xef\\x1c@6/P(]r\\xf2\\xd7\\xea\\xb38\\x8b\\xf3\\xc6yV\\xc4iu\\xbf\\xf4Z,y\\x0ck\\xb9\\xd0i\\x17\\xa9\\xad,z\\x85\\x8a\\xd3Q\\xd8\\x9f\\x08\\x06\\xae\\xf5\\xcaA\\x1e\\xde_\\xcdT\\x92q\\x96\\xae\\x88\\xdf\\x98\\xa0@>\\xbc\\x95\\x06\\xccC\\\\N\\xbaP\\x16H\\x03\\xd3\\x9e\\x9f\\x92\\xad\\x16%\\xd7\\xe2\\xd3B<D\\x03\\xaf#\\xf4?\\xadD<\\x8d\\x17\\xa0\\xbdn\\xcd\\xdd\\x9dM\\x9f\\xd0\\xf9*E\\xfe1\\xa7K\\x1a\\xd5i\\xcfQ\\xa6\\x9eh\\xee\\x92\\xba\\x9b\\xde\\xf7\\'\\xd0l\\xa2\\x1e\\xd22\\x9f\\xbdD\\x80t\\x1a\\xd5WU\\x1a\\xd88\\x86\\x96\\x8a\\xaa\\xb1\\xcbRlP>\\xba\\xfa,\\\\D\\x81\\x84\\x8d\\x0f\\'Q\\xd8\\x1f?\\x7f\\xa1\\xe8\\xb5s\\x12h\\x8f\"\\x0e\\xdaQ:|\\xff\\x00\\x92\\xce\\xe28z\\xae\\x86\\xc0;\\xed\\xady\\xae\\x98\\xb9U\\x1c{\\xc5V\\xfa\\xdd\\x83\\xe5V:\\xf2U\\xe0p\"\\x8d\\xd6\\x9a\\r4\\xfe\\x7f\\xf2\\x96(e\\x1e\\x80W\\xa6\\xd5\\xf5(\\xfd\\x9d\\xe1\\xee\\x9av\\xb0}\\xda\\x06B97\\x9f\\xa5\\xae\\xb2t\\xe7ooB\\xecc{\\xbc\\x1b\\t\\x14\\\\\\\\\\xe2>M\\x1f\\xc3~\\xeb\\xa0l\\xe1\\xcb,h(\\n\\x03@:\\x01\\xb2.\\x12Qt\\xb7\\xc7Q\\xe5\\xb9\\xee\\xb4\\xdc\\xed\\x15)\\x9cU\\x92\\xe1Z\\x95P\\xcdeg\\x06\\xad\\t\\xf6\\xa7\\x19$R$o\\x07t\\x9cE\\xe8\\xb7\\xb6A\\x93B\\x82\\xf4w\\xb3\\x9a\\x06`.\\xd6\\xf6\\x95\\x18\\xe26S9\\x88O\\x96\\xf6*1\\xcb\\xc8\\xa7l\\xed \\x91JO$\\'\\xbfEu\\xb3bfP!\\x08\\xca\\x84e*q]\\xab\\x8c5n=\\x11L:l\\xb7\\x1f\\xc3\\x1d\\xa6\\xbb$\\xde\\x1a\\xf5\\x9f,w\\xe3\\x8b\\x9e\\x9e\"*\\x91\\x99\\x0e\\x8by\\xfc=\\xfd\\x07\\xc9A\\x9c=\\xe3\\x90W\\xcb\\x13\\x86;f\\xe0\\t`\\xfcU\\xcc<\\xf4I\\xa5h`\\xdd\\xd1M\\x98G\\x7f\\x85f\\xfc\\x92\\xb7$W\\x9f\\x12\\xf2\\xd3J\\\\:Jm\\x10\\xad\\xfd\\x9c\\x8f\\xd9QdG\\xfc*s\\x9a\\xd1\\xa8\\xb9\\x0e*\\xb6\\x0b\\xce\\xf1d\\xb3\\x1b\\x8d\\x88\\x8f\\x0b\\x9e\\xe9\\x03z\\x87\\x80\\xe3\\xcf\\xcc\\xae\\xf66\\x9b\\xd4R\\xf3^\\xd7brq\\x19\\x1c\\xd0t\\xca\\xd7n/\\xc0\\x1at\\xfdl\\xb1\\x94\\xdc\\xd3r\\xea\\xedf9\\xa2\\x83\\xbb\\xca4\\xbf\\x17Jw\\xe8|\\x96\\x7fh#\\x1fi\\x0e\\xe4\\xe6\\x83\\xfd\\x15\\\\^$\\xc9}9\\x7f5\\x0e#>fA[\\xb4\\x16\\xbb[;\\xe8\\xb9\\xe3\\x8e\\xaa\\xda\\xe8\\xf0\\x914\\xc7`\\x1b\\x04y\\xdd\\xa6\\x95\\xc04\\x90k\\xae\\xca\\xa7\\x0c\\xc4d\\x14v\\xadF\\x9c\\xd5<o\\x10\\x04\\x96\\xdf]/\\x97\\x9e\\xcaI\\xba\\xdd\\xbd6!\\x96\\xd8Zz\\x1a\\xe7\\xef\\xe6\\xb3\\xb1\\x9cp\\xbaF\\xc6/+\\x1a\\x01\\x07C\\x98o\\x7f\\xae\\xa9`\\'\\r\\x02Gk\\x96\\xb4\\xba\\x1a\\x1b\\x1auX\\\\G\\x14;\\xe2\\xf0o1.q\\xd8_OE\\xa9\\x86\\xeb<\\xf5\\x1dS\\xb8\\x9b\\\\+V\\xedDk\\xf4Qt\\xcc5N#](\\xd1\\x1eTE\\x1eEs\\x03\\x16H\\xf3\\xfe[#\\x1cm\\xd6\\x82\\xc5\\xe8:~\\xadO\\x1d^q\\xd6`G\\x8b]j\\xee\\xf5=\\x05\\xfc\\xcaX\\x9c\\xac \\xed\\xb6\\x83\\x97?\\xc9c`\\xf8\\xa8\\xe7\\xa5l7.\\xf5\\xfdsE\\x93\\x8b\\x0b\\xcc\\xe1{\\xe5\\xe8\\xb3\\xc6\\xed\\xaeQvy\\xee\\x9d\\xfa\\xd5cb\\xf1\\x97m;\\n->\\x9f\\xd5R\\x97\\x89HI\\x17`\\x91\\x94\\x1eG\\xcb\\xcbu\\xa5\\xd9\\x8e\\x08\\xfcl\\xe36a\\x0bK\\xb3\\xc8\\x06\\xe4\\x03\\xe1\\x07m\\xe9u\\x98i\\xce\\xe5\\xb0p\\xfc=\\xf8\\x83L\\x1a\\n\\xb2t\\x03Ml\\xfb}Wi\\xc1\\xf0\\x11\\xe1\\xd9\\x95\\xba\\xb8\\xd6w\\x9d\\xdc\\x7f!\\xaa\\xe9p\\xdc2\\x08\\xd8\\x19\\x1b\\x03Z?VO2\\xaaI\\x85oyK\\xa6\\x1a\\x8e_&\\xf2\\xf4\\xa0f\\xd5\\x1b\\x0e\\xe1v\\xaf\\xbb\\x875@\\xe1\\x03v[\\xb9J\\xe5\\xe3\\xca\\x01,\\xba\\x1bU\\x9b\\'\\x9a<\\xd8{4\\xa16\\x07(\\xd0\\xa4\\x923e8}j\\x86\\xd9\\xb5\\xb5`a\\xc6_5\\x9b#\\xa9\\xd4vI6\\x96X\\xd4s\\xed\\xb6\\xa8\\xe2_\\xa5\\xf2E\\xce2\\x90\\x83\\x86\\x8c\\xb9\\x8e\\x1d-Y4\\xb7\\xb5X\\xdb\\x9b\\x9a\\x8c\\xae\\xcaiO\\x04\\xddKy\\x8d\\xd4q0\\xf8\\x96\\xff\\x00\\xa9\\xa9\\xa4\\xe1\\x92\\xc2\\x84\\x9a\\x83\\xe4\\x86$\\x03JQl\\xba8+\\xa4\\xd1\\x9c\\xea\\t5\\xca2\\xbf\\xc2\\xa0\\xc9\\xf4Ut\\xf4@\\xe6\\xa9\\xb5\\xcdC\\x03\\xc9\\x105|\\xcd\\xbd\\xbaK\\xc2\\x9e\\x9b\\xd10\\x01L\\x00\\x9b4a]\\x14\\xc5tK(O\\x94&\\xd3D2\\xf4R\\x01\\xbd\\x12c\\x14\\x83Bl\\xd1\\xf23r\\x17\\x8aqP%\\xc4\\xcb(\\x02\\x9e\\xf7\\x96\\xf4\\r\\xbf\\x0f\\xd2\\x97\\xa6v\\xd7\\x8dG\\x87\\xc3\\x96\\xdf\\x8eM(n\\x19t\\xe3\\xef\\xb0\\xf7\\xe8\\xbc\\xb5\\xf2\\xdeg<e\\x00\\xf8X\\xdf\\xd6\\xabx\\xefF\\x941\\x8d\\xc8(\\xfb\\x05\\xab/g\\xdd\\x16\\x06<D\\xc6\\xa4\\xc4=\\xa6\\x18M\\x02!h.28u>\\n\\x1c\\x81\\x17\\xa9\\xa1w\\x81p(\\x80\\x18\\xfcp\\x1d\\xc6\\xae\\xc3an\\xe4\\xc4\\x91\\xb1 \\xed\\x17;:\\x1d9}\\xea\\x1cs\\x89\\xcd\\x8c\\x95\\xd3I\\xa0:4\\r\\x1a\\xd6\\r\\x9a\\xc1\\xd3\\xf1$\\x95\\xb8\\x8a\\x0cp\\xd7\\x97\\xaa\\xa54\\xed\\x04\\x926\\xe7\\xfdQLd\\x90\\xd64\\xb8\\xb8\\xd3Z\\x01s\\xdcy\\x06\\xb4n}\\x17\\xa8\\xf6;\\xe1\\xe4\\x11B_\\x8d\\x8d\\x92\\xcd \\x19\\xa3x\\x0fd\"\\xce\\x8d?\\xe3\\xa2-\\xc3j\\xa1\\xd4\\xb71\\xee\\xad\\xdd\\xe9\\xe2g\\x12K\\xb75d\\xd5\\xab\\x12Ga{\\x8c\\xdf\\x0e\\xf8=\\x92p\\xd5|\\x84\\xd3\\x005\\xbd\\x00~\\x9e\\xca\\xdc\\x1d\\x93\\xe1-\\xdb\\t\\x11\\xdbG\\xe6\\x90i\\xe4\\xe2U\\xbf6,p\\xaf\\x9e;\\xd2\\x11`\\'{_G\\xe1\\xfb;\\xc3\\x81\\x05\\xb8<0#c\\xf6x\\xaf\\xe7\\x95x\\xef\\xc4,+!\\xe2X\\x96\\xb26\\xb1\\x97\\x13\\x9a\\xd601\\xa34L&\\x80\\x00}\\xec\\xdb+>I\\x97Z8\\xd8\\xc5\\xe1\\xecq.\\xb3\\xd2\\x96\\x84\\x8cf\\x96u\\xadz\\xad\\xef\\x85\\xdc.\\x1cT\\xf22Au\\x13\\xc8\\xbeN$4;\\xd4f\\xbfe\\xcbqF\\x9c\\xda\\xe8E\\x83\\xecig{\\xcbMOM\\xfe\\xc0vb<f&N\\xf1\\xc7\\xba\\x89\\xads\\xda\\xdbk\\x9e\\\\Hks\\n#\\xee\\x9b#\\xdb\\xa8\\xf6Xpp\\xc6\\xd0\\xc8\\xd8\\xd64\\n\\x0ccCZ\\x07\\x90\\x0b\\x87\\xf8=\\x87\\r\\xc3O%j\\xe9Z\\xcb\\xf2c\\x03\\x87\\xd6B\\xbb\\xe2\\xb1\\x9e]\\xe9d\\x00\\xc0\\xce\\x8a\\x1fce\\xdd+4\\x95,s\\xa6\\x95\\xce\\x1d\\xaa\\x1fegEj\\x94]I\\xc8\\xd2\\xa3\\xb0\\x11\\xdd\\xd2g`\\xa3\\xe8\\xaedM\\xdd\\xa7:qRv\\x024\\x17p\\x88N\\xe1j\\x08\\xd4r+\\xce\\x9cYg\\x83\\xc3\\xd1J.\\x19\\x1bn\\xb9\\xad\\x12\\xc0\\x9b(O%\\xfb8\\xb1\\xe3\\xe0\\x914\\x97\\r\\xce\\xea/\\xe0\\x91\\x93kc\"\\x89b\\xbe\\\\\\xbe\\xd3\\xc7\\x18\\xaf\\xe0\\x11\\x15\\x0f\\xfa~%\\xb9\\x95E\\xcdO._g\\x8e0_\\xc0\"(\\x7f\\xf4\\xecK\\x7f(LX\\x13\\xcb\\x97\\xd9\\xe3\\x80\\x87\\x95 \\xf7$\\r\\xe8\\x88\\xc2\\xb8\\xba\\x06\\xe9\\x1d\\xd1HJ\\xee\\x88\\x8c6T\\xf3 \\x18\\x94\\xf4K\\xbd=\\x11\\x83\\x93Z\\x06\\x12\\x1e\\x8a]\\xe1\\xab\\xa5\"T1s\\xb5\\x91=\\xee \\x00\\xd7\\x1b=kA\\xeeh!\\xa7\\x8c\\xf1\\\\T\\x98\\x89\\x0b\\xe4\\xd4\\xdf\\xcf\\xfe\\x16\\xefe{.qr\\x0cD\\xe3\\xff\\x00\\x8e6f\\xc6g\\x0f\\xd9\\xff\\x00\\xc6\\x08\\xd4\\xf3\\xaa\\xea\\xa9p.\\x16\\xfcN%\\xb14\\xe5\\x00\\x97Ly\\xb61\\xa1\\xaf=@\\x1ed/^\\x89\\x8dkCZ\\x00kCCZ6\\x00\\n\\x00{.\\xd9\\xe7\\xae\\xa3:y\\x97m\\xcb\\xdd\\x8b\\x927\\x1f\\rDc\\x1b\\x00\\xcc\\xa2\\x9a\\x07K\\xcd\\xa2\\xca\\xc2\\xf0yfx\\x866\\x82\\xf7\\xeb\\xe24\\xd60U\\xc8\\xee\\x80\\x12\\x07\\xb8]O\\xc4\\\\\\x1d\\xcb\\x04\\xbdX\\xf6;\\xfd\\x048}\\x1e~J\\xdf\\xc3l&VO#\\xb5s\\x9e\\xd6\\x83\\xfb\\xad\\x16+\\xdc\\xfd\\x02r\\xd6#K\\xb3=\\x96\\xc3\\xe0\\xfcb\\xe4\\x9a\\xa8\\xcc\\xe1T9\\x88\\xd9\\xb3\\x07\\xd4\\xf3<\\x96\\xf7|\\x9e\\xd2\\xb5\\xca\\xdbUVv\\xb5\\xdb\\xda\\x10\\xc23\\xcd_\\x14\\x9c\\x91\\xd1E\\xd2\\xa4Q4mk\\xca\\xfe,\\xc1X\\xc6:\\xb4|\\x0c\\xa3\\xe6\\xd7\\xbc\\x1f\\xa6U\\xec\\r\\x01y\\xaf\\xc6\\x98\\x05a$\\x1b\\x8f\\xb40\\xfa\\x7fv\\xe1\\xa7\\xb1\\xf9\\xae\\x9f\\x1f\\xec\\x96t\\x8f\\xc1\\x9c0\\x0f\\xc4\\xc8w\\x0c\\x85\\x83\\xfdn{\\x8f\\xf05r]\\xa9\\xc3wx\\xd9\\xd9\\xc8>Z\\xf4\\xccK~\\x84.\\xf3\\xe0\\xfb@\\x8f\\x10y\\x9f\\xb3\\x9f*\\xfe\\xf0\\x0f\\xcd`\\xfcR\\xe1\\xf9q\\xe6@4\\x928\\x9c}E\\xb0\\xff\\x00\\x00\\xf9\\xad\\xcb\\xf9\\xa6\\xbau_\\r\"\\xae\\x1e\\xd3\\xd6Y\\xcf\\xc9\\xd9G\\xd1\\xa1uA\\xc1s\\x7f\\x0b\\xdd\\xff\\x00\\xd77\\xcaY\\x87\\xe0\\x7f5\\xd5\\x1a\\\\\\xb3\\xfd\\xaa\\xc0\\xcc\\xc1B\\xf5\\xbbE\\xa0\\x96P\\xb2\\xa8\\x97\\xde\\x8a\\x94\\xf0\\x13\\xaeb\\xaf;D\\xc0\\x14\\x15\\xa2\\x04\\r\\\\\\x8a\\xd9\\x07U\\'\\xb5G*l\\xd0\\x86@\\x82\\xf2y\\x15<\\x86\\x94\\x0b\\n\\x08\\x9b\\xea\\x9a\\xab\\x9a\\x9eS\\xd5G\\xbb*lD\\x0f5\\x0c\\x87\\xaa\\x9fv\\x98\\xb0\\xaaiRx\\xe4\\xbf\\tCtR\\x97^m:+\\xb9k\\x9a\\x8d\\xa8\\x05\\x18w2\\xa4\\xeb\\xea\\xa7\\x95D\\xb4\\xab\\xb3H\\xc7 *O\\x92\\x8d$\\x92*.#\\xaa\\x8bn\\xec\\x1fd\\x92Q\\x07\\xbf5\\x10O2\\x99$\\x06n\\xdb\\xac\\xde\\xd1\\x80p\\xcf\\x04\\xfe\\xd4[\\x7f\\x98$\\x92\\xb3\\xd8\\xcf\\xec&\\x15\\xadl\\xd2\\x8f\\xdbxh>M\\x16\\x7f\\x8b\\xe8\\xba^\\xf2\\x86\\xa9$\\xad\\xf6\\x8c\\x9e\\xd7a\\xbb\\xec#\\x80\\xdd\\x84<\\x0et4w\\xd0\\xdf\\xb2\\x8fc\\xe4\\r\\x8f/V\\xb0\\xd7\\xa5\\x83\\xf8\\x84\\xc9+=\\x0e\\x8b\\xbcCl\\xe1$\\x96U!\"\\x93%\\x05$\\x908\\x94\\x0b\\\\O\\xc5\\x98D\\x98|;\\xae\\xaa|\\xa7\\x9e\\x8fa$\\xff\\x00\\xb1$\\x95\\xc6\\xf6.\\xfc4\\xe1\\xe6,3\\xe4p\\xa3#\\x9a\\x1a?r0@\\xff\\x00s\\x9f\\xf2Y_\\x18 \\xa8\\xe0\\x98utn\\xfe&\\xfe\\x0fI%\\xa9\\x7f$i\\xfc(\\xbf\\xec\\xeb?\\xb54\\xc5\\xbe\\x805\\xbf\\x8bJ\\xeb\\x1eu\\x15\\xe7i$\\xa6\\x7f\\xb5\\'\\xa3\\xba\\xad3\\xc8\\x1a\\xa4\\x92\\xca\\x90J\\xc2I \\x13y\\xd9\\xbdO\\xd3e1I\\x92@\\xcf*.v\\xe9\\xd2A\\x03\\xd1D\\x92\\x92H\"d\\xea\\x90\\x91$\\x94\\x11s\\xd0\\xec$\\x92\\xa1\\x9d-$\\\\\\x92J+\\xff\\xd9'}"
            ]
          },
          "metadata": {
            "tags": []
          },
          "execution_count": 43
        }
      ]
    },
    {
      "cell_type": "code",
      "metadata": {
        "id": "xbGM_VrXm-mV",
        "outputId": "46448edb-6b8f-4fee-dda0-b77299bdfcc1",
        "colab": {
          "base_uri": "https://localhost:8080/",
          "height": 266
        }
      },
      "source": [
        "img_path = 'bembi2.jpg'\n",
        "img = image.load_img(img_path, target_size=(32, 32))\n",
        "plt.imshow(img)\n",
        "plt.show()"
      ],
      "execution_count": null,
      "outputs": [
        {
          "output_type": "display_data",
          "data": {
            "image/png": "[encoded data removed]",
            "text/plain": [
              "<Figure size 432x288 with 1 Axes>"
            ]
          },
          "metadata": {
            "tags": [],
            "needs_background": "light"
          }
        }
      ]
    },
    {
      "cell_type": "code",
      "metadata": {
        "id": "-o38QjNqnFr_"
      },
      "source": [
        "x = image.img_to_array(img)\n",
        "x /= 255\n",
        "x = np.expand_dims(x, axis=0)"
      ],
      "execution_count": null,
      "outputs": []
    },
    {
      "cell_type": "code",
      "metadata": {
        "id": "enkJrLiNnL1A",
        "outputId": "367aa4d0-7e41-422e-c07a-f5a1835836ea",
        "colab": {
          "base_uri": "https://localhost:8080/"
        }
      },
      "source": [
        "prediction = model.predict(x)\n",
        "prediction = np.argmax(prediction)\n",
        "print(classes[prediction])"
      ],
      "execution_count": null,
      "outputs": [
        {
          "output_type": "stream",
          "text": [
            "олень\n"
          ],
          "name": "stdout"
        }
      ]
    }
  ]
}